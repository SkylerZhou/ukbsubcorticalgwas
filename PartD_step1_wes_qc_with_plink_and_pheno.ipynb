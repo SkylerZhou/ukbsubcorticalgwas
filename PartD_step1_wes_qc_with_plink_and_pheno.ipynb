{
 "cells": [
  {
   "cell_type": "code",
   "execution_count": null,
   "metadata": {},
   "outputs": [],
   "source": [
    "vi wesqc.sh"
   ]
  },
  {
   "cell_type": "code",
   "execution_count": null,
   "metadata": {
    "vscode": {
     "languageId": "shellscript"
    }
   },
   "outputs": [],
   "source": [
    "#!/bin/bash\n",
    "\n",
    "# Inputs:\n",
    "# for each chromosome, you will run a separate worker\n",
    "# - /{exome_file_dir}/ukb23155_c1_b0_v1.bed \n",
    "# - /{exome_file_dir}/ukb23155_c1_b0_v1.bim \n",
    "# - /{exome_file_dir}/ukb23155_c1_b0_v1.bam \n",
    "\n",
    "# Outputs (for each chromosome):\n",
    "# - /Data/WES_c1_snps_qc_pass.id  \n",
    "# - /Data/WES_c1_snps_qc_pass.snplist - used in Part F \n",
    "# - /Data/WES_c1_snps_qc_pass.log\n",
    "\n",
    "\n",
    "#set this to the exome sequence directory that you want (should contain PLINK formatted files)\n",
    "data_field=\"ukb23158\"\n",
    "exome_file_dir=\"/Bulk/Exome sequences/Population level exome OQFE variants, PLINK format - final release\"\n",
    "pheno_file_dir=\"project-GFv8ZJQJGgfVjGjpJ7vB2X1p:/whitelist_strict/PartA\"\n",
    "\n",
    "for (( i=1 ; i<=22 ; i++ )); do\n",
    "    run_plink_wes=\"plink2 --bfile ukb23158_c${i}_b0_v1\\\n",
    "      --no-pheno --keep FIRSTtable.phe --autosome\\\n",
    "      --maf 0.01 --mac 20 --geno 0.1 --hwe 1e-15 --mind 0.1\\\n",
    "      --write-snplist --write-samples --no-id-header\\\n",
    "      --out FIRST_WES_c${i}_snps_qc_pass\"\n",
    "\n",
    "    dx run swiss-army-knife -iin=\"${exome_file_dir}/ukb23158_c${i}_b0_v1.bed\"\\\n",
    "     -iin=\"${exome_file_dir}/ukb23158_c${i}_b0_v1.bim\"\\\n",
    "     -iin=\"${exome_file_dir}/ukb23158_c${i}_b0_v1.fam\"\\\n",
    "     -iin=\"${pheno_file_dir}/FIRSTtable.phe\"\\\n",
    "     -icmd=\"${run_plink_wes}\" --tag=\"Step2\" --instance-type \"mem1_ssd1_v2_x16\"\\\n",
    "     --destination=\"/whitelist_strict/PartD/\" --brief --yes\n",
    "done\n"
   ]
  },
  {
   "cell_type": "code",
   "execution_count": null,
   "metadata": {},
   "outputs": [],
   "source": [
    "# have to be bash because sh does not allow (()) for loop\n",
    "chmod +x wesqc.sh\n",
    "bash wesqc.sh"
   ]
  }
 ],
 "metadata": {
  "language_info": {
   "name": "python"
  },
  "orig_nbformat": 4
 },
 "nbformat": 4,
 "nbformat_minor": 2
}
