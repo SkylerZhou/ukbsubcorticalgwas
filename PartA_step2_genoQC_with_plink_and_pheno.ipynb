{
 "cells": [
  {
   "cell_type": "code",
   "execution_count": null,
   "metadata": {
    "vscode": {
     "languageId": "shellscript"
    }
   },
   "outputs": [],
   "source": [
    "vi step3.sh"
   ]
  },
  {
   "cell_type": "code",
   "execution_count": null,
   "metadata": {
    "vscode": {
     "languageId": "shellscript"
    }
   },
   "outputs": [],
   "source": [
    "#!/bin/sh\n",

    "\n",
    "#set directory (also location of merged files)\n",
    "data_field=\"22418\"\n",
    "data_file_dir=\"project-GFv8ZJQJGgfVjGjpJ7vB2X1p:/T1geno_PartA/Liftover Data_step1_step2\"\n",
    "pheno_file_dir=\"project-GFv8ZJQJGgfVjGjpJ7vB2X1p:/whitelist_strict/PartA\"\n",
    "\n",
    "run_plink_qc=\"plink2 --bfile ukb_c1-22_GRCh38_full_analysis_set_plus_decoy_hla_merged\\\n",
    " --keep FIRSTtable.phe --autosome\\\n",
    " --maf 0.01 --mac 20 --geno 0.1 --hwe 1e-15\\\n",
    " --mind 0.1 --write-snplist --write-samples\\\n",
    " --no-id-header --out FIRST_array_snps_qc_pass\"\n",
    "\n",
    "dx run swiss-army-knife -iin=\"${data_file_dir}/ukb_c1-22_GRCh38_full_analysis_set_plus_decoy_hla_merged.bed\" \\\n",
    "   -iin=\"${data_file_dir}/ukb_c1-22_GRCh38_full_analysis_set_plus_decoy_hla_merged.bim\" \\\n",
    "   -iin=\"${data_file_dir}/ukb_c1-22_GRCh38_full_analysis_set_plus_decoy_hla_merged.fam\"\\\n",
    "   -iin=\"${pheno_file_dir}/FIRSTtable.phe\" \\\n",
    "   -icmd=\"${run_plink_qc}\" --tag=\"Step1\" --instance-type \"mem1_ssd1_v2_x16\"\\\n",
    "   --destination=\"/whitelist_strict/PartA/\" --brief --yes"
   ]
  },
  {
   "cell_type": "code",
   "execution_count": null,
   "metadata": {
    "vscode": {
     "languageId": "shellscript"
    }
   },
   "outputs": [],
   "source": [
    "# run\n",
    "sh step3.sh"
   ]
  }
 ],
 "metadata": {
  "language_info": {
   "name": "python"
  },
  "orig_nbformat": 4
 },
 "nbformat": 4,
 "nbformat_minor": 2
}
